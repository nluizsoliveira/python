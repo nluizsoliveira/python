{
 "cells": [
  {
   "cell_type": "markdown",
   "metadata": {},
   "source": [
    "\n",
    "# Exercícios Simulation - Sheldon m. Ross\n",
    "\n",
    "## Capítulo 1:\n",
    "\n",
    "### 1.1: \n",
    "Os seguintes vetores armazenam os tempos de chegada e de serviço que cada consumidor um dos 13 primeiros clientes de um servidor irá requerir:"
   ]
  },
  {
   "cell_type": "markdown",
   "metadata": {},
   "source": [
    "Ao chegar, o consumidor inicia seu serviço ou entra na fila de espera. Quando o servidor completa o trabalho em um consumidor, o próximo da fila (Que estiver esperando a mais tempo) inicia seu serviço. \n",
    "\n",
    "#### a)\n",
    "Determine o tempo de saída destes 3 consumidores."
   ]
  },
  {
   "cell_type": "code",
   "execution_count": 1,
   "metadata": {},
   "outputs": [
    {
     "name": "stdout",
     "output_type": "stream",
     "text": [
      "[52, 84, 139, 187, 205, 255, 302, 320, 348, 490, 530, 602, 614]\n"
     ]
    }
   ],
   "source": [
    "arrival = [12,31,63,95,99,154,198,221,304,436,411,455,537]\n",
    "service = [40,32,55,48,18,50,47,18,28,54,40,72,12]\n",
    "departure = []\n",
    "\n",
    "serverTime = 0\n",
    "\n",
    "\n",
    "\n",
    "for i in range(0,len(arrival)):\n",
    "    departure.append(0)\n",
    "    if serverTime < arrival[i]:\n",
    "        departure[i] = arrival[i] + service[i]\n",
    "    else:\n",
    "        departure[i] = serverTime + service[i]\n",
    "    serverTime = departure[i]\n",
    "\n",
    "print(departure)\n",
    "    "
   ]
  },
  {
   "cell_type": "markdown",
   "metadata": {},
   "source": [
    "#### b)\n",
    "Repita (a), considerando que existem dois servidores"
   ]
  },
  {
   "cell_type": "code",
   "execution_count": 4,
   "metadata": {},
   "outputs": [
    {
     "name": "stdout",
     "output_type": "stream",
     "text": [
      "[52, 63, 118, 143, 136, 204, 245, 239, 332, 490, 451, 527, 549]\n"
     ]
    }
   ],
   "source": [
    "arrival = [12,31,63,95,99,154,198,221,304,436,411,455,537]\n",
    "service = [40,32,55,48,18,50,47,18,28,54,40,72,12]\n",
    "departure = []\n",
    "\n",
    "serverTime = [0,0]\n",
    "\n",
    "for i in range(0,len(arrival)):\n",
    "    departure.append(0)\n",
    "    serverTime.sort() #Garante que sempre se tente o servidor com menor espera\n",
    "    if serverTime[0] < arrival[i]:\n",
    "        departure[i] = arrival[i] + service[i]\n",
    "    else:\n",
    "        departure[i] = serverTime[0] + service[i]\n",
    "    serverTime[0] = departure[i]\n",
    "    \n",
    "print(departure)\n",
    "\n"
   ]
  },
  {
   "cell_type": "markdown",
   "metadata": {},
   "source": [
    "#### c)\n",
    "Repita (a), considerando que quando o servidor completa um serviço o próximo da lista é o que está esperando a menos tempo \n"
   ]
  },
  {
   "cell_type": "code",
   "execution_count": null,
   "metadata": {},
   "outputs": [],
   "source": []
  }
 ],
 "metadata": {
  "kernelspec": {
   "display_name": "Python 3",
   "language": "python",
   "name": "python3"
  },
  "language_info": {
   "codemirror_mode": {
    "name": "ipython",
    "version": 3
   },
   "file_extension": ".py",
   "mimetype": "text/x-python",
   "name": "python",
   "nbconvert_exporter": "python",
   "pygments_lexer": "ipython3",
   "version": "3.6.9"
  }
 },
 "nbformat": 4,
 "nbformat_minor": 4
}
