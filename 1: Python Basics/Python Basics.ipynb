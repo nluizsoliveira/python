{
 "cells": [
  {
   "cell_type": "markdown",
   "metadata": {},
   "source": [
    "### Useful Jupyter Shortcuts\n",
    "| Description       | Shortcut      |\n",
    "|-------------------|---------------|\n",
    "| **Command Mode**  | **esc**       |\n",
    "| Markdown Mode     | m             |\n",
    "| Python Mode       | y             |\n",
    "| Insert Cell Below | b             |\n",
    "| Delete Cell       | d             |\n",
    "| Restart Kernel    | 0,0           |\n",
    "| **Cell Mode**     | **Enter**     |\n",
    "| Run Current Cell  | Shift + Enter |\n"
   ]
  },
  {
   "cell_type": "markdown",
   "metadata": {},
   "source": [
    "# Python"
   ]
  },
  {
   "cell_type": "markdown",
   "metadata": {},
   "source": [
    "## Strings"
   ]
  },
  {
   "cell_type": "markdown",
   "metadata": {},
   "source": [
    "### Multi-line Strings:"
   ]
  },
  {
   "cell_type": "code",
   "execution_count": 1,
   "metadata": {
    "scrolled": true
   },
   "outputs": [
    {
     "name": "stdout",
     "output_type": "stream",
     "text": [
      "Huge message that doesn't fit into a \n",
      "single line\n"
     ]
    }
   ],
   "source": [
    "message = \"\"\"Huge message that doesn't fit into a \n",
    "single line\"\"\"\n",
    "print(message)"
   ]
  },
  {
   "cell_type": "markdown",
   "metadata": {},
   "source": [
    "### Slicing: "
   ]
  },
  {
   "cell_type": "code",
   "execution_count": 2,
   "metadata": {},
   "outputs": [
    {
     "name": "stdout",
     "output_type": "stream",
     "text": [
      "Hello World\n",
      "d\n",
      "Hello\n"
     ]
    }
   ],
   "source": [
    "message = \"Hello World\"\n",
    "print(message[:])\n",
    "print(message[-1])\n",
    "print(message[0:5])"
   ]
  },
  {
   "cell_type": "markdown",
   "metadata": {},
   "source": [
    "### Finding and counting substrings"
   ]
  },
  {
   "cell_type": "code",
   "execution_count": 3,
   "metadata": {
    "scrolled": true
   },
   "outputs": [
    {
     "name": "stdout",
     "output_type": "stream",
     "text": [
      "4\n",
      "-1\n",
      "8\n",
      "3\n"
     ]
    }
   ],
   "source": [
    "message = \"one two One two two\"\n",
    "print(message.find('two'))  # returns first substring starting position\n",
    "print(message.find('three'))# returns -1 if arg is not a substring\n",
    "print(message.find('One'))  # case-sensitive\n",
    "print(message.count('two')) # returns occurence of substring"
   ]
  },
  {
   "cell_type": "markdown",
   "metadata": {},
   "source": [
    "### Strings are IMMUTABLE!"
   ]
  },
  {
   "cell_type": "code",
   "execution_count": 4,
   "metadata": {},
   "outputs": [
    {
     "name": "stdout",
     "output_type": "stream",
     "text": [
      "Hello Universe\n",
      "Hello World\n"
     ]
    },
    {
     "data": {
      "text/plain": [
       "'Hello Universe'"
      ]
     },
     "execution_count": 4,
     "metadata": {},
     "output_type": "execute_result"
    }
   ],
   "source": [
    "message = 'Hello World'\n",
    "print(message.replace('World', 'Universe'))# Returns a modified copy\n",
    "print(message) #Untouched since strings are immutable\n",
    "\n",
    "new_message = message.replace('World', 'Universe') # Return can be assigned to a new variable\n",
    "\n",
    "new_message"
   ]
  },
  {
   "cell_type": "markdown",
   "metadata": {},
   "source": [
    "### Formatting Strings: Concatenation"
   ]
  },
  {
   "cell_type": "markdown",
   "metadata": {},
   "source": [
    "Does not allow embedding code. Gets messy with long concatenations.  \n"
   ]
  },
  {
   "cell_type": "code",
   "execution_count": 5,
   "metadata": {},
   "outputs": [],
   "source": [
    "name = 'Nelson'\n",
    "surname = 'Oliveira'"
   ]
  },
  {
   "cell_type": "code",
   "execution_count": 6,
   "metadata": {},
   "outputs": [
    {
     "data": {
      "text/plain": [
       "'Nelson Luiz Oliveira'"
      ]
     },
     "execution_count": 6,
     "metadata": {},
     "output_type": "execute_result"
    }
   ],
   "source": [
    "name_1 = name + ' Luiz ' + surname \n",
    "name_1"
   ]
  },
  {
   "cell_type": "markdown",
   "metadata": {},
   "source": [
    "### Formatting Strings:  .format()"
   ]
  },
  {
   "cell_type": "markdown",
   "metadata": {},
   "source": [
    "Allows embedding code. Placeholder printf-like Cleaner syntax"
   ]
  },
  {
   "cell_type": "code",
   "execution_count": 7,
   "metadata": {
    "scrolled": true
   },
   "outputs": [
    {
     "data": {
      "text/plain": [
       "'Nelson Luiz OLIVEIRA'"
      ]
     },
     "execution_count": 7,
     "metadata": {},
     "output_type": "execute_result"
    }
   ],
   "source": [
    "name_2 = '{} Luiz {}'.format(name,surname.upper()) \n",
    "name_2"
   ]
  },
  {
   "cell_type": "markdown",
   "metadata": {},
   "source": [
    "### Formatting Strings:  f''"
   ]
  },
  {
   "cell_type": "markdown",
   "metadata": {},
   "source": [
    "Allows embedding code. Even cleaner syntax. Available on python 3.6 +"
   ]
  },
  {
   "cell_type": "code",
   "execution_count": 8,
   "metadata": {},
   "outputs": [
    {
     "data": {
      "text/plain": [
       "'NELSON Luiz Oliveira'"
      ]
     },
     "execution_count": 8,
     "metadata": {},
     "output_type": "execute_result"
    }
   ],
   "source": [
    "name_3 = f'{name.upper()} Luiz {surname}' \n",
    "name_3"
   ]
  },
  {
   "cell_type": "markdown",
   "metadata": {},
   "source": [
    "### Advanced .format()"
   ]
  },
  {
   "cell_type": "code",
   "execution_count": 9,
   "metadata": {},
   "outputs": [],
   "source": [
    "##todo, watch https://www.youtube.com/watch?v=vTX3IwquFkc"
   ]
  },
  {
   "cell_type": "markdown",
   "metadata": {},
   "source": [
    "## Lists"
   ]
  },
  {
   "cell_type": "markdown",
   "metadata": {},
   "source": [
    "**Mutable** data structure that allows working with **sequential data**. \n"
   ]
  },
  {
   "cell_type": "markdown",
   "metadata": {},
   "source": [
    "- Initialized via ```list = []``` \n",
    "- Elements accessed via ```list[index]``` \n",
    "- Range of elements accessed via ```list[start:end]```"
   ]
  },
  {
   "cell_type": "code",
   "execution_count": 10,
   "metadata": {
    "scrolled": true
   },
   "outputs": [
    {
     "name": "stdout",
     "output_type": "stream",
     "text": [
      "Physics\n",
      "English\n",
      "['Physics', 'Geography']\n",
      "['Physics', 'Geography', 'English']\n",
      "['History', 'Math']\n",
      "['Geography', 'English']\n"
     ]
    }
   ],
   "source": [
    "courses = ['History', 'Math', 'Physics', 'Geography', 'English']\n",
    "\n",
    "print(courses[2])   # Index starts at 0 \n",
    "print(courses[-1])  # Negative index iterates backwards\n",
    "print(courses[2:4]) # [) Includes start but not end\n",
    "print(courses[2:])  # Element 2 ownards\n",
    "print(courses[:2])  # First 2 elems\n",
    "print(courses[-2:]) # Last 2 elems"
   ]
  },
  {
   "cell_type": "markdown",
   "metadata": {},
   "source": [
    "- **Mutability causes same-reference issues such as:**"
   ]
  },
  {
   "cell_type": "code",
   "execution_count": 11,
   "metadata": {
    "scrolled": true
   },
   "outputs": [
    {
     "name": "stdout",
     "output_type": "stream",
     "text": [
      "['art', 'math', '']\n",
      "['art', 'math', '']\n"
     ]
    }
   ],
   "source": [
    "my_classes = [\"art\", \"math\", \"bio\"]\n",
    "friend_classes = my_classes\n",
    "\n",
    "friend_classes[2] = ''\n",
    "\n",
    "print(my_classes)\n",
    "print(friend_classes)\n"
   ]
  },
  {
   "cell_type": "markdown",
   "metadata": {},
   "source": [
    "- Insert element at end via ```list.append(elem)```\n",
    "- Insert element anywhere via ```list.insert(position, elem)```\n",
    "- Insert lists via ```list.extend(other_list)```"
   ]
  },
  {
   "cell_type": "code",
   "execution_count": 12,
   "metadata": {},
   "outputs": [
    {
     "name": "stdout",
     "output_type": "stream",
     "text": [
      "[1]\n",
      "[0, 1]\n",
      "[0, 1, 3, 4, 5]\n"
     ]
    }
   ],
   "source": [
    "counting = []\n",
    "\n",
    "counting.append(1)\n",
    "print(counting)\n",
    "\n",
    "counting.insert(0,0)\n",
    "print(counting)\n",
    "\n",
    "other_list = [3,4,5]\n",
    "counting.extend(other_list)\n",
    "print(counting)\n"
   ]
  },
  {
   "cell_type": "markdown",
   "metadata": {},
   "source": [
    "- Remove last elem via ```list.pop```\n",
    "- Remove first occurence via ```list.remove(elem)```"
   ]
  },
  {
   "cell_type": "code",
   "execution_count": 13,
   "metadata": {},
   "outputs": [
    {
     "name": "stdout",
     "output_type": "stream",
     "text": [
      "[1, 1, 2, 4]\n",
      "[1, 2, 4]\n"
     ]
    }
   ],
   "source": [
    "list = [1,1,2,4,5]\n",
    "\n",
    "list.pop()\n",
    "print(list)\n",
    "\n",
    "list.remove(1)\n",
    "print(list)"
   ]
  },
  {
   "cell_type": "markdown",
   "metadata": {},
   "source": [
    "- sort list via ```list.sort```\n",
    "- return max value via ```max(list)```\n",
    "- return min value via ```min(list)```"
   ]
  },
  {
   "cell_type": "code",
   "execution_count": 15,
   "metadata": {},
   "outputs": [
    {
     "name": "stdout",
     "output_type": "stream",
     "text": [
      "max of [4, 2, 9, 11, 23] = 23, min = 2\n",
      "['a', 'c', 'd', 'r', 'z']\n",
      "[2, 4, 9, 11, 23]\n"
     ]
    }
   ],
   "source": [
    "alphabet = ['z','c','d','a','r']\n",
    "nums = [4,2,9,11,23]\n",
    "\n",
    "print(f'max of {nums} = {max(nums)}, min = {min(nums)}')\n",
    "alphabet.sort()\n",
    "nums.sort()\n",
    "\n",
    "print(alphabet)\n",
    "print(nums)"
   ]
  },
  {
   "cell_type": "markdown",
   "metadata": {},
   "source": [
    "- Check if elem is at list via ```elem in list```\n",
    "- Return first occurrence via ```list.index(elem)```"
   ]
  },
  {
   "cell_type": "code",
   "execution_count": null,
   "metadata": {},
   "outputs": [],
   "source": [
    "nums = [3,4,5,5,5,2]\n",
    "\n",
    "print(6 in nums)\n",
    "print(4 in nums)\n",
    "print(nums.index(5))"
   ]
  },
  {
   "cell_type": "markdown",
   "metadata": {},
   "source": [
    "### Iterating through lists: \n",
    "The ```for elem in list``` syntax allow a clean way to interate through lists. ```elem```is a variable and may receive any name, which is useful for a cleaner and most understandable code: "
   ]
  },
  {
   "cell_type": "code",
   "execution_count": null,
   "metadata": {},
   "outputs": [],
   "source": [
    "list = [1,2,3]\n",
    "\n",
    "for custom_name in list:\n",
    "    print(custom_name)\n",
    "    \n",
    "print('---')\n",
    "# is the same as:\n",
    "\n",
    "for number in list:\n",
    "    print(number)"
   ]
  },
  {
   "cell_type": "markdown",
   "metadata": {},
   "source": [
    "### Accessing index while iterating \n",
    "\n",
    "```enumerate()``` adds counter to an iterable and returns it (the enumerate object)."
   ]
  },
  {
   "cell_type": "code",
   "execution_count": null,
   "metadata": {
    "scrolled": false
   },
   "outputs": [],
   "source": [
    "courses = ['Bio', 'Math', 'Cs']\n",
    "\n",
    "for index, course in enumerate(courses):\n",
    "    print(f'{index} {course}')"
   ]
  },
  {
   "cell_type": "markdown",
   "metadata": {},
   "source": [
    "### Defining start, stop and skip when iterating through a list: \n",
    "Lists can be sliced by their indices using\n",
    "\n",
    "```python\n",
    "list[start:stop:skip]\n",
    "```\n",
    "\n",
    "To keep track of the index, \n",
    "\n",
    "```python\n",
    "for i in range (start,stop,skip)\n",
    "```\n",
    "\n",
    "is a  way to go:"
   ]
  },
  {
   "cell_type": "code",
   "execution_count": null,
   "metadata": {
    "scrolled": true
   },
   "outputs": [],
   "source": [
    "ten = [0,1,2,3,4,5,6,7,8,9,10]\n",
    "\n",
    "print(f'ten[1:9:2] == {ten[1:9:2]}\\n')\n",
    "\n",
    "for i, number in enumerate(ten[1:9:2]):\n",
    "    print(f'{i} {number}')\n",
    "    \n",
    "print('------------')\n",
    "\n",
    "#for(i = 1; i < 9; i++)\n",
    "for i in range(1,9,2):\n",
    "    print(f'{i} {ten[i]}')"
   ]
  },
  {
   "cell_type": "markdown",
   "metadata": {},
   "source": [
    "### List to String & String to List\n",
    "- The method ```'separator'.join(list)``` may be used to export a list to a string. \n",
    "- The method ```list.split('separator')``` may be used to export a string to a list"
   ]
  },
  {
   "cell_type": "code",
   "execution_count": null,
   "metadata": {
    "scrolled": true
   },
   "outputs": [],
   "source": [
    "courses = ['math','bio','english']\n",
    "str = '-'.join(courses)\n",
    "str2 = ' '.join(courses)\n",
    "print(str)\n",
    "print(str2)\n",
    "\n",
    "courses_list = str2.split(' ')\n",
    "print(courses_list)"
   ]
  },
  {
   "cell_type": "markdown",
   "metadata": {},
   "source": [
    "## Tuples\n",
    "Immutable equivalent of List. \n",
    "\n",
    "- Initialized via ```()``` syntax\n"
   ]
  },
  {
   "cell_type": "code",
   "execution_count": null,
   "metadata": {},
   "outputs": [],
   "source": [
    "classes = (\"art\", \"math\", \"bio\")"
   ]
  },
  {
   "cell_type": "markdown",
   "metadata": {},
   "source": [
    "**Help avoiding same-reference-mutability issues, such as:** \n"
   ]
  },
  {
   "cell_type": "code",
   "execution_count": null,
   "metadata": {
    "scrolled": true
   },
   "outputs": [],
   "source": [
    "my_classes = (\"art\", \"math\", \"bio\")\n",
    "friend_classes = my_classes\n",
    "\n",
    "try: \n",
    "    friend_classes[2] = '' #TypeError: 'tuple' object does not support item assignment\n",
    "except:\n",
    "    print(\"Tuples cannot be modified\")\n"
   ]
  },
  {
   "cell_type": "markdown",
   "metadata": {},
   "source": [
    "## Sets\n",
    "Data structure that does not consider order or duplicity of its elements. \n",
    "\n",
    "- Declared via ```set()``` for empty sets (to distinguish between sets and dictionaries)\n",
    "- Declared via ```mySet = {elem1, elem2, ...}```for non-empty sets\n",
    "- Optimized for verifying existence of element\n",
    "\n"
   ]
  },
  {
   "cell_type": "code",
   "execution_count": null,
   "metadata": {},
   "outputs": [],
   "source": [
    "travelled_countries = {'Spain', 'USA', 'Brazil', 'Brazil'}\n",
    "\n",
    "print(travelled_countries)\n",
    "print('Spain' in travelled_countries) #Faster than lists ]\n"
   ]
  },
  {
   "cell_type": "markdown",
   "metadata": {},
   "source": [
    "- Allows finding intersections between sets via ```mySet.intersection(otherSet)```\n",
    "- Allows finding elements that are in one set, but not in other via```mySet.difference(otherSet)```\n",
    "- Allow joining elements of both sets via ```mySet.union(otherSet```\n",
    "\n"
   ]
  },
  {
   "cell_type": "code",
   "execution_count": null,
   "metadata": {
    "scrolled": true
   },
   "outputs": [],
   "source": [
    "travelled_countries = {'Spain', 'USA', 'Brazil', 'Brazil'}\n",
    "na_countries = {'USA', 'Canada', 'Mexico'}\n",
    "\n",
    "print(travelled_countries.intersection(na_countries))\n",
    "print(travelled_countries.difference(na_countries))\n",
    "print(travelled_countries.union(na_countries))"
   ]
  },
  {
   "cell_type": "markdown",
   "metadata": {},
   "source": [
    "## Dictionaries\n",
    "- Data-structure for working with key-value pairs. Works like a hashmap, which is very efficient for searching elements. \n",
    "- An empty dictionary is declared via ```{}```\n",
    "- Otherwhise, dictionaries are declared via ```{'key1': value1, 'key2', value2...}```\n",
    "- Keys **must be unique** but two keys may have the same value. \n",
    "- Elements are accessed via ```dict.get(key)``` method"
   ]
  },
  {
   "cell_type": "code",
   "execution_count": null,
   "metadata": {},
   "outputs": [],
   "source": [
    "student = {\n",
    "    'name': 'Jhon',\n",
    "    'age' : 25,\n",
    "    'courses': ['Math', 'CompSci']\n",
    "}\n",
    "\n",
    "print(student)\n",
    "print(student.get('name'))\n",
    "print(student.get('id'))"
   ]
  },
  {
   "cell_type": "markdown",
   "metadata": {},
   "source": [
    "- Iterar sobre dicionários: "
   ]
  },
  {
   "cell_type": "code",
   "execution_count": null,
   "metadata": {},
   "outputs": [],
   "source": [
    "for key,value in student.items():\n",
    "    print(key,value)"
   ]
  },
  {
   "cell_type": "markdown",
   "metadata": {},
   "source": [
    "## Continue vs Break \n",
    "\n",
    "Take the following code that prints numbers from 0 to 4 twice: "
   ]
  },
  {
   "cell_type": "code",
   "execution_count": null,
   "metadata": {},
   "outputs": [],
   "source": [
    "for j in range (2):\n",
    "    print(\"-----\")\n",
    "    for i in range (5): \n",
    "        print(i)"
   ]
  },
  {
   "cell_type": "markdown",
   "metadata": {},
   "source": [
    "### Continue\n",
    "kill current iteration of immediate loop above, jumping to the next one. "
   ]
  },
  {
   "cell_type": "code",
   "execution_count": null,
   "metadata": {},
   "outputs": [],
   "source": [
    "# Does not print i for odd numbers\n",
    "for i in range(5):\n",
    "    if(i%2):\n",
    "        print('odd')\n",
    "        continue\n",
    "    print(i)"
   ]
  },
  {
   "cell_type": "markdown",
   "metadata": {},
   "source": [
    "- Nested loop with ```continue```:"
   ]
  },
  {
   "cell_type": "code",
   "execution_count": null,
   "metadata": {},
   "outputs": [],
   "source": [
    "# Does not jump outer loop current iteration\n",
    "for j in range (2): \n",
    "    print(\"-----\")\n",
    "    for i in range(5):\n",
    "        if(i%2):\n",
    "            print('odd')\n",
    "            continue #\n",
    "        print(i)"
   ]
  },
  {
   "cell_type": "markdown",
   "metadata": {},
   "source": [
    "### Break\n",
    "kills immediate loop above"
   ]
  },
  {
   "cell_type": "code",
   "execution_count": null,
   "metadata": {
    "scrolled": true
   },
   "outputs": [],
   "source": [
    "# Break loop when first odd number is found\n",
    "for i in range(5):\n",
    "    if(i%2):\n",
    "        print('odd')\n",
    "        break\n",
    "    print(i)"
   ]
  },
  {
   "cell_type": "markdown",
   "metadata": {},
   "source": [
    "- Nested loop with ```break```:"
   ]
  },
  {
   "cell_type": "code",
   "execution_count": null,
   "metadata": {},
   "outputs": [],
   "source": [
    "# Does not break outer loop when first odd number is found\n",
    "for j in range (2): \n",
    "    print(\"-----\")\n",
    "    for i in range(5):\n",
    "        if(i%2):\n",
    "            print('odd')\n",
    "            break #\n",
    "        print(i)"
   ]
  },
  {
   "cell_type": "markdown",
   "metadata": {},
   "source": [
    "## Functions"
   ]
  },
  {
   "cell_type": "code",
   "execution_count": null,
   "metadata": {},
   "outputs": [],
   "source": []
  },
  {
   "cell_type": "code",
   "execution_count": null,
   "metadata": {},
   "outputs": [],
   "source": []
  },
  {
   "cell_type": "code",
   "execution_count": null,
   "metadata": {},
   "outputs": [],
   "source": []
  },
  {
   "cell_type": "code",
   "execution_count": null,
   "metadata": {},
   "outputs": [],
   "source": []
  },
  {
   "cell_type": "markdown",
   "metadata": {},
   "source": [
    "### Tricks"
   ]
  },
  {
   "cell_type": "markdown",
   "metadata": {},
   "source": [
    "#### Returning all accessible attributes and methods of a variable"
   ]
  },
  {
   "cell_type": "code",
   "execution_count": null,
   "metadata": {},
   "outputs": [],
   "source": [
    "variable = \"any\"\n",
    "dir(variable)\n",
    "1 #returns a (really long) list of attributes and methods"
   ]
  },
  {
   "cell_type": "code",
   "execution_count": null,
   "metadata": {
    "scrolled": true
   },
   "outputs": [],
   "source": [
    "# print(help(type(variable)))"
   ]
  },
  {
   "cell_type": "code",
   "execution_count": null,
   "metadata": {},
   "outputs": [],
   "source": []
  }
 ],
 "metadata": {
  "kernelspec": {
   "display_name": "Python 3",
   "language": "python",
   "name": "python3"
  },
  "language_info": {
   "codemirror_mode": {
    "name": "ipython",
    "version": 3
   },
   "file_extension": ".py",
   "mimetype": "text/x-python",
   "name": "python",
   "nbconvert_exporter": "python",
   "pygments_lexer": "ipython3",
   "version": "3.8.2"
  }
 },
 "nbformat": 4,
 "nbformat_minor": 4
}
